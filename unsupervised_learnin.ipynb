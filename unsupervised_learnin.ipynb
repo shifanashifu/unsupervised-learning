{
  "nbformat": 4,
  "nbformat_minor": 0,
  "metadata": {
    "colab": {
      "provenance": []
    },
    "kernelspec": {
      "name": "python3",
      "display_name": "Python 3"
    },
    "language_info": {
      "name": "python"
    }
  },
  "cells": [
    {
      "cell_type": "code",
      "execution_count": null,
      "metadata": {
        "id": "erhBvTPfygv-"
      },
      "outputs": [],
      "source": [
        "# Import necessary libraries\n",
        "import pandas as pd\n",
        "import numpy as np\n",
        "import matplotlib.pyplot as plt\n",
        "from sklearn.cluster import KMeans\n",
        "from sklearn.metrics import silhouette_score\n",
        "from sklearn.preprocessing import StandardScaler\n",
        "from sklearn.datasets import make_blobs\n",
        "from sklearn.cluster import DBSCAN\n",
        "\n",
        "# Load your dataset\n",
        "data = pd.read_csv('your_dataset.csv')\n",
        "\n",
        "# Explore the dataset\n",
        "print(data.head())\n",
        "print(data.info())\n"
      ]
    },
    {
      "cell_type": "code",
      "source": [
        "# Check for missing values and handle them if necessary\n",
        "data.isnull().sum()\n",
        "\n",
        "# Standardize the data if needed\n",
        "scaler = StandardScaler()\n",
        "scaled_data = scaler.fit_transform(data)\n"
      ],
      "metadata": {
        "id": "DQssp9tOyiUQ"
      },
      "execution_count": null,
      "outputs": []
    },
    {
      "cell_type": "code",
      "source": [
        "# Finding the optimum number of clusters using the Elbow Method\n",
        "wcss = []\n",
        "for i in range(1, 11):\n",
        "    kmeans = KMeans(n_clusters=i, init='k-means++', max_iter=300, n_init=10, random_state=0)\n",
        "    kmeans.fit(scaled_data)\n",
        "    wcss.append(kmeans.inertia_)\n",
        "\n",
        "# Plot the Elbow graph\n",
        "plt.plot(range(1, 11), wcss)\n",
        "plt.title('Elbow Method')\n",
        "plt.xlabel('Number of clusters')\n",
        "plt.ylabel('WCSS')  # Within cluster sum of squares\n",
        "plt.show()\n",
        "\n",
        "# From the elbow graph, choose the optimal number of clusters and create the K-Means model\n",
        "optimal_clusters = 3\n",
        "kmeans_optimal = KMeans(n_clusters=optimal_clusters, init='k-means++', max_iter=300, n_init=10, random_state=0)\n",
        "kmeans_optimal.fit(scaled_data)\n"
      ],
      "metadata": {
        "id": "O8F8deg8yqrQ"
      },
      "execution_count": null,
      "outputs": []
    },
    {
      "cell_type": "code",
      "source": [
        "# Silhouette analysis to validate the optimal number of clusters\n",
        "silhouette_avg = silhouette_score(scaled_data, kmeans_optimal.labels_)\n",
        "print(f'Silhouette Score for {optimal_clusters} clusters: {silhouette_avg}')\n",
        "# Generating sample data for DBSCAN\n",
        "X, _ = make_blobs(n_samples=300, centers=3, cluster_std=0.60, random_state=0)\n",
        "\n",
        "# Implementing DBSCAN\n",
        "dbscan = DBSCAN(eps=0.3, min_samples=5)\n",
        "labels = dbscan.fit_predict(X)\n",
        "\n",
        "# Visualize DBSCAN clusters\n",
        "plt.scatter(X[:, 0], X[:, 1], c=labels, cmap='viridis')\n",
        "plt.title('DBSCAN Clustering')\n",
        "plt.show()\n"
      ],
      "metadata": {
        "id": "IsFW-RBCyvfz"
      },
      "execution_count": null,
      "outputs": []
    },
    {
      "cell_type": "code",
      "source": [
        "# Save the K-Means model\n",
        "import joblib\n",
        "joblib.dump(kmeans_optimal, 'kmeans_model.pkl')\n",
        "\n",
        "# Save the DBSCAN model if applicable\n",
        "joblib.dump(dbscan, 'dbscan_model.pkl')\n",
        "\n"
      ],
      "metadata": {
        "id": "PTwfXPR_y6ZS"
      },
      "execution_count": null,
      "outputs": []
    }
  ]
}